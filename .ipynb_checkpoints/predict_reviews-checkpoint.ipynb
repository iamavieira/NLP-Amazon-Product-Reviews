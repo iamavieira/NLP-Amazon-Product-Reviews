{
 "cells": [
  {
   "cell_type": "markdown",
   "metadata": {},
   "source": [
    "Amazon movie review"
   ]
  },
  {
   "cell_type": "markdown",
   "metadata": {},
   "source": [
    "one-hot encoding - most commom format to encode binary data"
   ]
  },
  {
   "cell_type": "code",
   "execution_count": 1,
   "metadata": {},
   "outputs": [],
   "source": [
    "import re\n",
    "import numpy as np\n",
    "import pandas as pd\n",
    "import gc\n",
    "from itertools_recipes import unique_everseen\n",
    "from IPython.core.debugger import set_trace\n",
    "from tqdm.notebook import tqdm"
   ]
  },
  {
   "cell_type": "markdown",
   "metadata": {},
   "source": [
    "One hot encoding to create an embedding "
   ]
  },
  {
   "cell_type": "code",
   "execution_count": null,
   "metadata": {},
   "outputs": [],
   "source": [
    "oneHots = {}\n",
    "oneHots['cat'] = np.array([1, 0, 0, 0])\n",
    "oneHots['the'] = np.array([0, 1, 0, 0])\n",
    "oneHots['dog'] = np.array([0, 0, 1, 0])\n",
    "oneHots['sat'] = np.array([0, 0, 0, 1])\n",
    "\n",
    "def word2Hot(word):\n",
    "    return oneHots[word]\n",
    "\n",
    "sentence = ['the', 'cat', 'sat']\n",
    "x = np.asarray([word2Hot(word) for word in sentence])\n",
    "print('Embedding: ' + str(np.sum(x, axis=0)))"
   ]
  },
  {
   "cell_type": "markdown",
   "metadata": {},
   "source": [
    "Amazon movie reviews https://snap.stanford.edu/data/web-Movies.html"
   ]
  },
  {
   "cell_type": "code",
   "execution_count": 2,
   "metadata": {},
   "outputs": [],
   "source": [
    "scores = list()\n",
    "reviews = list()\n",
    "with open('/mnt/data/amazon/movies/reviews/reviews.txt', encoding='ISO-8859-1') as file:    \n",
    "    for index, line in enumerate(file):\n",
    "        review = re.search('review/text', line)\n",
    "        score  = re.search('review/score', line)\n",
    "        if(review):        \n",
    "            reviews.append(line)\n",
    "        elif(score):\n",
    "            scores.append(line)    "
   ]
  },
  {
   "cell_type": "code",
   "execution_count": 3,
   "metadata": {},
   "outputs": [
    {
     "data": {
      "application/vnd.jupyter.widget-view+json": {
       "model_id": "ae7d64d1b5cb439b92d1bff68f40f33b",
       "version_major": 2,
       "version_minor": 0
      },
      "text/plain": [
       "HBox(children=(FloatProgress(value=0.0, max=8000.0), HTML(value='')))"
      ]
     },
     "metadata": {},
     "output_type": "display_data"
    },
    {
     "name": "stdout",
     "output_type": "stream",
     "text": [
      "\n"
     ]
    }
   ],
   "source": [
    "def add_review_and_words(review):\n",
    "    review = clean_review(review)\n",
    "    train_reviews.append(review)\n",
    "    words.extend(review.split())\n",
    "    \n",
    "\n",
    "def clean_review(review):\n",
    "    review = remove_html_tags(review)\n",
    "    review = remove_line_breaks(review)\n",
    "    review = replace_dots_with_whitespaces(review)\n",
    "    review = remove_everything_else_but_alphanumeric(review)\n",
    "    review = remove_reviewtext_string(review)\n",
    "    review = remove_numeric_characters(review)\n",
    "    return review\n",
    "    \n",
    "def remove_html_tags(review):\n",
    "    return re.sub('<.*?>', '', review)\n",
    "  \n",
    "def remove_line_breaks(review):\n",
    "    return re.sub('\\n', '', review)\n",
    "\n",
    "def replace_dots_with_whitespaces(review):\n",
    "    return re.sub('\\.', ' ', review)\n",
    "    \n",
    "def remove_everything_else_but_alphanumeric(review):\n",
    "    return re.sub(r'([^\\s\\w]|_)+', '', review)\n",
    "\n",
    "def remove_reviewtext_string(review):\n",
    "    return re.sub('reviewtext', '', review)\n",
    "\n",
    "def remove_numeric_characters(review):\n",
    "    return re.sub(r'\\d', '', review)\n",
    "\n",
    "def remove_duplicate_words(words):\n",
    "    return list(unique_everseen(words, key=str.lower))\n",
    "\n",
    "words = list()\n",
    "train_reviews = list()\n",
    "[add_review_and_words(review) for review in tqdm(reviews)]\n",
    "words = remove_duplicate_words(words)"
   ]
  },
  {
   "cell_type": "code",
   "execution_count": 4,
   "metadata": {},
   "outputs": [
    {
     "name": "stdout",
     "output_type": "stream",
     "text": [
      "44821\n",
      "8000\n",
      "8000\n",
      "8000\n"
     ]
    }
   ],
   "source": [
    "print(len(words))\n",
    "print(len(train_reviews))\n",
    "print(len(scores))\n",
    "print(len(reviews))"
   ]
  },
  {
   "cell_type": "code",
   "execution_count": 5,
   "metadata": {},
   "outputs": [
    {
     "data": {
      "application/vnd.jupyter.widget-view+json": {
       "model_id": "78668dfbb1124453b7fc35bf83fa08d2",
       "version_major": 2,
       "version_minor": 0
      },
      "text/plain": [
       "HBox(children=(FloatProgress(value=0.0, max=44821.0), HTML(value='')))"
      ]
     },
     "metadata": {},
     "output_type": "display_data"
    },
    {
     "name": "stdout",
     "output_type": "stream",
     "text": [
      "\n"
     ]
    }
   ],
   "source": [
    "#create bag of words\n",
    "bag_of_words = {}\n",
    "for index, word in enumerate(tqdm(words)):\n",
    "    dimensions = np.zeros(len(words))\n",
    "    dimensions[index] = 1\n",
    "    bag_of_words[word] = dimensions "
   ]
  },
  {
   "cell_type": "code",
   "execution_count": 6,
   "metadata": {},
   "outputs": [
    {
     "data": {
      "text/plain": [
       "74"
      ]
     },
     "execution_count": 6,
     "metadata": {},
     "output_type": "execute_result"
    }
   ],
   "source": [
    "#freeing memory\n",
    "del reviews\n",
    "del words\n",
    "gc.collect()"
   ]
  },
  {
   "cell_type": "code",
   "execution_count": null,
   "metadata": {},
   "outputs": [
    {
     "name": "stdout",
     "output_type": "stream",
     "text": [
      "> \u001b[0;32m<ipython-input-7-b2acf546b84a>\u001b[0m(4)\u001b[0;36mremove_reviewscore_string\u001b[0;34m()\u001b[0m\n",
      "\u001b[0;32m      2 \u001b[0;31m\u001b[0;32mdef\u001b[0m \u001b[0mremove_reviewscore_string\u001b[0m\u001b[0;34m(\u001b[0m\u001b[0mscore\u001b[0m\u001b[0;34m)\u001b[0m\u001b[0;34m:\u001b[0m\u001b[0;34m\u001b[0m\u001b[0;34m\u001b[0m\u001b[0m\n",
      "\u001b[0m\u001b[0;32m      3 \u001b[0;31m    \u001b[0mset_trace\u001b[0m\u001b[0;34m(\u001b[0m\u001b[0;34m)\u001b[0m\u001b[0;34m\u001b[0m\u001b[0;34m\u001b[0m\u001b[0m\n",
      "\u001b[0m\u001b[0;32m----> 4 \u001b[0;31m    \u001b[0;32mreturn\u001b[0m \u001b[0mre\u001b[0m\u001b[0;34m.\u001b[0m\u001b[0msub\u001b[0m\u001b[0;34m(\u001b[0m\u001b[0;34m'review\\\\score'\u001b[0m\u001b[0;34m,\u001b[0m \u001b[0;34m''\u001b[0m\u001b[0;34m,\u001b[0m \u001b[0mscore\u001b[0m\u001b[0;34m)\u001b[0m\u001b[0;34m\u001b[0m\u001b[0;34m\u001b[0m\u001b[0m\n",
      "\u001b[0m\u001b[0;32m      5 \u001b[0;31m\u001b[0;34m\u001b[0m\u001b[0m\n",
      "\u001b[0m\u001b[0;32m      6 \u001b[0;31m\u001b[0mtrain_scores\u001b[0m \u001b[0;34m=\u001b[0m \u001b[0mlist\u001b[0m\u001b[0;34m(\u001b[0m\u001b[0;34m)\u001b[0m\u001b[0;34m\u001b[0m\u001b[0;34m\u001b[0m\u001b[0m\n",
      "\u001b[0m\n"
     ]
    },
    {
     "name": "stdin",
     "output_type": "stream",
     "text": [
      "ipdb>  re.sub('review\\\\score', '', score)\n"
     ]
    },
    {
     "name": "stdout",
     "output_type": "stream",
     "text": [
      "'review/score: 3.0\\n'\n"
     ]
    },
    {
     "name": "stdin",
     "output_type": "stream",
     "text": [
      "ipdb>  re.sub('reviewscore', '', score)\n"
     ]
    },
    {
     "name": "stdout",
     "output_type": "stream",
     "text": [
      "'review/score: 3.0\\n'\n"
     ]
    },
    {
     "name": "stdin",
     "output_type": "stream",
     "text": [
      "ipdb>  re.sub('review/score', '', score)\n"
     ]
    },
    {
     "name": "stdout",
     "output_type": "stream",
     "text": [
      "': 3.0\\n'\n"
     ]
    },
    {
     "name": "stdin",
     "output_type": "stream",
     "text": [
      "ipdb>  re.sub('[^0-9]', '', score\n"
     ]
    },
    {
     "name": "stdout",
     "output_type": "stream",
     "text": [
      "*** SyntaxError: unexpected EOF while parsing\n"
     ]
    },
    {
     "name": "stdin",
     "output_type": "stream",
     "text": [
      "ipdb>  re.sub('[^0-9]', '', score)\n"
     ]
    },
    {
     "name": "stdout",
     "output_type": "stream",
     "text": [
      "'30'\n"
     ]
    }
   ],
   "source": [
    "#create train scores\n",
    "def remove_reviewscore_string(score):\n",
    "    score = re.sub('[^0-9]', '', score)\n",
    "    sc = (float(score) / 100) * 2\n",
    "    set_trace()\n",
    "\n",
    "train_scores = list()\n",
    "[remove_reviewscore_string(score) for score in scores]"
   ]
  },
  {
   "cell_type": "code",
   "execution_count": null,
   "metadata": {},
   "outputs": [],
   "source": []
  }
 ],
 "metadata": {
  "kernelspec": {
   "display_name": "Python 3",
   "language": "python",
   "name": "python3"
  },
  "language_info": {
   "codemirror_mode": {
    "name": "ipython",
    "version": 3
   },
   "file_extension": ".py",
   "mimetype": "text/x-python",
   "name": "python",
   "nbconvert_exporter": "python",
   "pygments_lexer": "ipython3",
   "version": "3.8.1"
  }
 },
 "nbformat": 4,
 "nbformat_minor": 4
}
